{
 "cells": [
  {
   "cell_type": "code",
   "execution_count": 1,
   "source": [
    "import logging\r\n",
    "\r\n",
    "from telegram import Update, ForceReply\r\n",
    "from telegram.ext import Updater, CommandHandler, MessageHandler, Filters, CallbackContext\r\n",
    "\r\n",
    "# Enable logging\r\n",
    "logging.basicConfig(\r\n",
    "    format='%(asctime)s - %(name)s - %(levelname)s - %(message)s', level=logging.INFO\r\n",
    ")\r\n",
    "\r\n",
    "logger = logging.getLogger(__name__)\r\n",
    "\r\n",
    "token = <YOUR TOKEN HERE>"
   ],
   "outputs": [],
   "metadata": {
    "tags": [],
    "cell_id": "00000-4af52833-a063-4460-8b57-fd7dbcd521c6",
    "deepnote_to_be_reexecuted": false,
    "source_hash": "640aaeff",
    "execution_start": 1627962131829,
    "execution_millis": 535,
    "deepnote_cell_type": "code"
   }
  },
  {
   "cell_type": "code",
   "execution_count": 2,
   "source": [
    "def start(update, context):\r\n",
    "    \"\"\"Send a message when the command /start is issued by the user.\"\"\"\r\n",
    "    user = update.effective_user\r\n",
    "    if user.last_name != None:\r\n",
    "      update.message.reply_text(f'Hi {user.first_name} {user.last_name}!')\r\n",
    "    else:\r\n",
    "      update.message.reply_text(f'Hi {user.first_name}!')\r\n",
    "\r\n",
    "\r\n",
    "def help(update,context):\r\n",
    "    \"\"\"Send a message when the command /help is issued by the user.\"\"\"\r\n",
    "    update.message.reply_text('How can I help you?')\r\n",
    "\r\n",
    "\r\n",
    "def echo(update, context):\r\n",
    "    \"\"\"Echoes the user message.\"\"\"\r\n",
    "    update.message.reply_text(f\"{update.message.text}\")"
   ],
   "outputs": [],
   "metadata": {
    "tags": [],
    "cell_id": "00001-8c30c38a-2392-4542-92e6-1171b8429127",
    "deepnote_to_be_reexecuted": false,
    "source_hash": "da7a413c",
    "execution_start": 1627962132377,
    "execution_millis": 6,
    "deepnote_cell_type": "code"
   }
  },
  {
   "cell_type": "code",
   "execution_count": 3,
   "source": [
    "def main() -> None:\r\n",
    "    \"\"\"Start the bot.\"\"\"\r\n",
    "    # Creates the Updater and passes your bot's token to the Updater.\r\n",
    "    updater = Updater(token)\r\n",
    "\r\n",
    "    # Initiates a dispatcher to register handlers\r\n",
    "    dispatcher = updater.dispatcher\r\n",
    "\r\n",
    "    # The bot will automatically answer the user upon receiving these commands\r\n",
    "    dispatcher.add_handler(CommandHandler(\"start\", start))\r\n",
    "    dispatcher.add_handler(CommandHandler(\"help\", help))\r\n",
    "\r\n",
    "    # Echoes the messages sent by the user on Telegram\r\n",
    "    dispatcher.add_handler(MessageHandler(Filters.text, echo))\r\n",
    "\r\n",
    "    # Start the Bot\r\n",
    "    updater.start_polling()\r\n",
    "\r\n",
    "    # Run the bot until you press Ctrl-C or the process receives SIGINT,\r\n",
    "    # SIGTERM or SIGABRT. This should be used most of the time, since\r\n",
    "    # start_polling() is non-blocking and will stop the bot gracefully.\r\n",
    "    updater.idle()"
   ],
   "outputs": [],
   "metadata": {
    "tags": [],
    "cell_id": "00002-1392eb8c-eddd-4f2d-8ae1-c381cc90544c",
    "deepnote_to_be_reexecuted": false,
    "source_hash": "cd96c32a",
    "execution_start": 1627962132385,
    "execution_millis": 3,
    "deepnote_cell_type": "code"
   }
  },
  {
   "cell_type": "code",
   "execution_count": null,
   "source": [
    "if __name__ == '__main__':\r\n",
    "    main()"
   ],
   "outputs": [],
   "metadata": {
    "tags": [],
    "created_in_deepnote_cell": true,
    "deepnote_cell_type": "markdown"
   }
  },
  {
   "cell_type": "markdown",
   "source": [
    "Upon running the above cell, you should see a similar line as follows:\r\n",
    "\r\n",
    "```",
    "apscheduler.scheduler - INFO - Scheduler started\r\n",
    "```",
    "\r\n",
    "This means that your bot should be up and running! Try sending some messages to your bot!"
   ],
   "metadata": {}
  }
 ],
 "nbformat": 4,
 "nbformat_minor": 2,
 "metadata": {
  "orig_nbformat": 2,
  "deepnote": {
   "is_reactive": false
  },
  "deepnote_notebook_id": "e8331f39-3341-4483-b504-c54984e74168",
  "deepnote_execution_queue": [
   {
    "cellId": "00003-5c56f35f-63d7-4443-a1c6-725c8365148a",
    "sessionId": "2eed999a-8faa-41d0-8603-510449dc12b1",
    "msgId": "2635e1b3-5c9d-4295-ab16-0dde053b1e6b"
   }
  ],
  "language_info": {
   "name": "python"
  }
 }
}
